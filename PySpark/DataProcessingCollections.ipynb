{
 "cells": [
  {
   "cell_type": "code",
   "execution_count": 175,
   "metadata": {},
   "outputs": [
    {
     "name": "stdout",
     "output_type": "stream",
     "text": [
      "Total Orders  68883\n",
      "Total Orders Items 172198\n"
     ]
    }
   ],
   "source": [
    "def readData(datapath):\n",
    "    ordersFile=open(datapath)\n",
    "    ordersData=ordersFile.read()\n",
    "    ordersList=ordersData.splitlines()\n",
    "    return ordersList\n",
    "\n",
    "ordersPath='/home/jasbir/Documents/PySpark_itversity/data-master/retail_db/orders/part-00000'\n",
    "orders=readData(ordersPath)\n",
    "\n",
    "print('Total Orders ', len(orders))\n",
    "\n",
    "orderItemPath='/home/jasbir/Documents/PySpark_itversity/data-master/retail_db/order_items/part-00000'\n",
    "orderItems=readData(orderItemPath)\n",
    "\n",
    "print('Total Orders Items',len(orderItems) )"
   ]
  },
  {
   "cell_type": "code",
   "execution_count": 178,
   "metadata": {},
   "outputs": [
    {
     "name": "stdout",
     "output_type": "stream",
     "text": [
      "['1,2013-07-25 00:00:00.0,11599,CLOSED', '2,2013-07-25 00:00:00.0,256,PENDING_PAYMENT', '3,2013-07-25 00:00:00.0,12111,COMPLETE', '4,2013-07-25 00:00:00.0,8827,CLOSED', '5,2013-07-25 00:00:00.0,11318,COMPLETE', '6,2013-07-25 00:00:00.0,7130,COMPLETE', '7,2013-07-25 00:00:00.0,4530,COMPLETE', '8,2013-07-25 00:00:00.0,2911,PROCESSING', '9,2013-07-25 00:00:00.0,5657,PENDING_PAYMENT', '10,2013-07-25 00:00:00.0,5648,PENDING_PAYMENT']\n",
      "************************************************\n",
      "['1,1,957,1,299.98,299.98', '2,2,1073,1,199.99,199.99', '3,2,502,5,250.0,50.0', '4,2,403,1,129.99,129.99', '5,4,897,2,49.98,24.99', '6,4,365,5,299.95,59.99', '7,4,502,3,150.0,50.0', '8,4,1014,4,199.92,49.98', '9,5,957,1,299.98,299.98', '10,5,365,5,299.95,59.99']\n"
     ]
    }
   ],
   "source": [
    "print(orders[:10])\n",
    "print('************************************************')\n",
    "print(orderItems[:10])"
   ]
  },
  {
   "cell_type": "code",
   "execution_count": 15,
   "metadata": {},
   "outputs": [
    {
     "data": {
      "text/plain": [
       "['22945,2013-12-13 00:00:00.0,1,COMPLETE',\n",
       " '15192,2013-10-29 00:00:00.0,2,PENDING_PAYMENT',\n",
       " '33865,2014-02-18 00:00:00.0,2,COMPLETE',\n",
       " '57963,2013-08-02 00:00:00.0,2,ON_HOLD',\n",
       " '67863,2013-11-30 00:00:00.0,2,COMPLETE',\n",
       " '22646,2013-12-11 00:00:00.0,3,COMPLETE',\n",
       " '23662,2013-12-19 00:00:00.0,3,COMPLETE',\n",
       " '35158,2014-02-26 00:00:00.0,3,COMPLETE',\n",
       " '46399,2014-05-09 00:00:00.0,3,PROCESSING',\n",
       " '56178,2014-07-15 00:00:00.0,3,PENDING']"
      ]
     },
     "execution_count": 15,
     "metadata": {},
     "output_type": "execute_result"
    }
   ],
   "source": [
    "#Use of Sort function of list \n",
    "ord=orders[:10]\n",
    "ord.sort(key=lambda k: int(k.split(',')[2]))\n",
    "ord\n",
    "\n",
    "#Use of sorted function for any variable \n",
    "sorted (orders, key=lambda k: int(k.split(',')[2]))[:10]"
   ]
  },
  {
   "cell_type": "code",
   "execution_count": 16,
   "metadata": {},
   "outputs": [
    {
     "data": {
      "text/plain": [
       "{'CANCELED',\n",
       " 'CLOSED',\n",
       " 'COMPLETE',\n",
       " 'ON_HOLD',\n",
       " 'PAYMENT_REVIEW',\n",
       " 'PENDING',\n",
       " 'PENDING_PAYMENT',\n",
       " 'PROCESSING',\n",
       " 'SUSPECTED_FRAUD'}"
      ]
     },
     "execution_count": 16,
     "metadata": {},
     "output_type": "execute_result"
    }
   ],
   "source": [
    "#Get all unique statues from the data \n",
    "\n",
    "s=set({})\n",
    "for i in orders:\n",
    "    s.add(i.split(',')[3])\n",
    "s"
   ]
  },
  {
   "cell_type": "code",
   "execution_count": 174,
   "metadata": {},
   "outputs": [
    {
     "name": "stdout",
     "output_type": "stream",
     "text": [
      "Total records   172198\n"
     ]
    }
   ],
   "source": [
    "#Get total revenue for given order from Order Items \n",
    "def readData(datapath):\n",
    "    ordersFile=open(datapath)\n",
    "    ordersData=ordersFile.read()\n",
    "    ordersList=ordersData.splitlines()\n",
    "    return ordersList\n",
    "\n",
    "orderItemPath='/home/jasbir/Documents/PySpark_itversity/data-master/retail_db/order_items/part-00000'\n",
    "orderItems=readData(orderItemPath)\n",
    "\n",
    "orderItems[:10]\n",
    "\n",
    "def getOrderRevenue(orderItems, orderId):\n",
    "    orderRevenue =0.0\n",
    "    for orderItem in orderItems:\n",
    "        if int(orderItem.split(',')[1])==orderId:\n",
    "            orderRevenue += float(orderItem.split(',')[4])\n",
    "    return orderRevenue\n",
    "\n",
    "getOrderRevenue(orderItems,7)\n",
    "\n",
    "print('Total records  ', len(orderItems))"
   ]
  },
  {
   "cell_type": "code",
   "execution_count": 4,
   "metadata": {},
   "outputs": [],
   "source": [
    "#Get total revenue for each order from Order Items \n",
    "\n",
    "def getOrderRevenuePerOrderId(orderItems):\n",
    "    orderRevenue ={}\n",
    "    for orderItem in orderItems:\n",
    "        orderItemtuple=(int(orderItem.split(',')[1]), float(orderItem.split(',')[4]))\n",
    "        if orderRevenue.get(orderItemtuple[0]):\n",
    "            orderRevenue[orderItemtuple[0]] += orderItemtuple[1]\n",
    "        else:\n",
    "            orderRevenue[orderItemtuple[0]] = orderItemtuple[1] \n",
    "    return orderRevenue\n",
    "\n",
    "getOrderRevenuePerOrderId(orderItems)\n",
    "\n"
   ]
  },
  {
   "cell_type": "code",
   "execution_count": 165,
   "metadata": {},
   "outputs": [],
   "source": [
    "#Get daily revenue for only CLOSED and COMPLETED Orders  \n",
    "\n",
    "def readData(datapath):\n",
    "    ordersFile=open(datapath)\n",
    "    ordersData=ordersFile.read()\n",
    "    ordersList=ordersData.splitlines()\n",
    "    return ordersList\n",
    "\n",
    "ordersPath='/home/jasbir/Documents/PySpark_itversity/data-master/retail_db/orders/part-00000'\n",
    "orders=readData(ordersPath)\n",
    "\n",
    "orderItemPath='/home/jasbir/Documents/PySpark_itversity/data-master/retail_db/order_items/part-00000'\n",
    "orderItems=readData(orderItemPath)\n",
    "\n",
    "\n",
    "def getCompletedOrders (orders):\n",
    "    ordersFilter=[]\n",
    "    for order in orders :\n",
    "        orderAttributes = order.split(',')\n",
    "        if (orderAttributes[3] in ('COMPLETE','CLOSED')):\n",
    "            ordersFilter.append(order)\n",
    "    return ordersFilter\n",
    "\n",
    "orderFiltered=getCompletedOrders(orders)\n",
    "\n",
    "#Lookup is Fast in Dictionary \n",
    "def getOrderIdAndDateDict(orders):\n",
    "    orderIdAndDateDict={}\n",
    "    for order in orders :\n",
    "        orderAttributes = order.split(',')\n",
    "        orderIdAndDateDict[int(orderAttributes[0])]=orderAttributes[1]\n",
    "    return orderIdAndDateDict\n",
    "        \n",
    "orderDateDict=getOrderIdAndDateDict(orderFiltered)\n",
    "\n",
    "\n",
    "def getDailyRevenue(orderItems, orderDateDict):\n",
    "    dailyRevenue={}\n",
    "    for orderItem in orderItems:\n",
    "        orderItemTuple=(int(orderItem.split(',')[1]) , float(orderItem.split(',')[4]))\n",
    "        if(orderDateDict.get(orderItemTuple[0])):\n",
    "            orderDate=orderDateDict[orderItemTuple[0]]\n",
    "            if (dailyRevenue.get(orderDate)):\n",
    "                dailyRevenue[orderDate] += orderItemTuple[1]\n",
    "            else :\n",
    "                dailyRevenue[orderDate] = orderItemTuple[1]\n",
    "    return dailyRevenue\n",
    "    \n",
    "    \n",
    "dailyOrderRevenue =getDailyRevenue(orderItems, orderDateDict)\n"
   ]
  },
  {
   "cell_type": "code",
   "execution_count": 9,
   "metadata": {},
   "outputs": [],
   "source": [
    "# Get Count for each Order status \n",
    "\n",
    "def readData(datapath):\n",
    "    ordersFile=open(datapath)\n",
    "    ordersData=ordersFile.read()\n",
    "    ordersList=ordersData.splitlines()\n",
    "    return ordersList\n",
    "\n",
    "ordersPath='/home/jasbir/Documents/PySpark_itversity/data-master/retail_db/orders/part-00000'\n",
    "orders=readData(ordersPath)\n",
    "\n",
    "orders[:10]\n",
    "\n",
    "def getOrderCountByStatus(orders):\n",
    "    OrderStatusCountDict={}\n",
    "    for order in orders:\n",
    "        if (OrderStatusCountDict.get(order.split(',')[3])):\n",
    "            OrderStatusCountDict[order.split(',')[3]] +=1   \n",
    "        else:\n",
    "            OrderStatusCountDict[order.split(',')[3]]=1\n",
    "    return  OrderStatusCountDict      \n",
    "    "
   ]
  },
  {
   "cell_type": "code",
   "execution_count": 18,
   "metadata": {},
   "outputs": [
    {
     "name": "stdout",
     "output_type": "stream",
     "text": [
      "68883\n"
     ]
    },
    {
     "data": {
      "text/plain": [
       "68883"
      ]
     },
     "execution_count": 18,
     "metadata": {},
     "output_type": "execute_result"
    }
   ],
   "source": [
    "#Test case \n",
    "\n",
    "print(len(orders))\n",
    "dict={}\n",
    "dict=getOrderCountByStatus(orders)\n",
    "count=0\n",
    "for i in dict:\n",
    "    count+=dict[i]\n",
    "count"
   ]
  },
  {
   "cell_type": "code",
   "execution_count": 147,
   "metadata": {},
   "outputs": [
    {
     "data": {
      "text/plain": [
       "[(1, 5908),\n",
       " (2, 5635),\n",
       " (3, 5778),\n",
       " (4, 5657),\n",
       " (5, 5467),\n",
       " (6, 5308),\n",
       " (7, 6001),\n",
       " (8, 5680),\n",
       " (9, 5841),\n",
       " (10, 5335),\n",
       " (11, 6381),\n",
       " (12, 5892)]"
      ]
     },
     "execution_count": 147,
     "metadata": {},
     "output_type": "execute_result"
    }
   ],
   "source": [
    "#Get number of orders per Month \n",
    "\n",
    "def readData(datapath):\n",
    "    ordersFile=open(datapath)\n",
    "    ordersData=ordersFile.read()\n",
    "    ordersList=ordersData.splitlines()\n",
    "    return ordersList\n",
    "\n",
    "ordersPath='/home/jasbir/Documents/PySpark_itversity/data-master/retail_db/orders/part-00000'\n",
    "orders=readData(ordersPath)\n",
    "\n",
    "def getNumberOfOrdersPM(orders):\n",
    "    OrdersCountPM={}\n",
    "    for order in orders :\n",
    "        month=int(order.split(',')[1].split('-')[1])\n",
    "        if OrdersCountPM.get(month):\n",
    "            OrdersCountPM[month]+=1\n",
    "        else:\n",
    "            OrdersCountPM[month]=1\n",
    "    return OrdersCountPM\n",
    "\n",
    "NumberOfOrdersPM =getNumberOfOrdersPM(orders)\n",
    "\n",
    "sorted(NumberOfOrdersPM.items(), key=lambda k : k[0])"
   ]
  },
  {
   "cell_type": "code",
   "execution_count": 179,
   "metadata": {},
   "outputs": [
    {
     "data": {
      "text/plain": [
       "[]"
      ]
     },
     "execution_count": 179,
     "metadata": {},
     "output_type": "execute_result"
    }
   ],
   "source": [
    "# Get Order Items where order sub total is not equal to order items multiply by product quantity\n",
    "\n",
    "def readData(datapath):\n",
    "    ordersFile=open(datapath)\n",
    "    ordersData=ordersFile.read()\n",
    "    ordersList=ordersData.splitlines()\n",
    "    return ordersList\n",
    "\n",
    "orderItemPath='/home/jasbir/Documents/PySpark_itversity/data-master/retail_db/order_items/part-00000'\n",
    "orderItems=readData(orderItemPath)\n",
    "\n",
    "\n",
    "def getOrderItemsWithWrongSubTotal(orderItems):\n",
    "    ordersWithWrongSubTotal=[]\n",
    "    \n",
    "    for orderItem in orderItems:\n",
    "        orderItemAttributes=orderItem.split(',')\n",
    "        \n",
    "        quantity=float(orderItemAttributes[3])\n",
    "        pricePerUnit=float(orderItemAttributes[5])\n",
    "        subTotal=float(orderItemAttributes[4])\n",
    "        \n",
    "        if (round((quantity*pricePerUnit),2)!=subTotal):\n",
    "            ordersWithWrongSubTotal.append(orderItem)\n",
    "    return ordersWithWrongSubTotal\n",
    "\n",
    "\n",
    "getOrderItemsWithWrongSubTotal(orderItems)\n"
   ]
  },
  {
   "cell_type": "code",
   "execution_count": 164,
   "metadata": {},
   "outputs": [],
   "source": [
    "#Get order details for an orders where there is not corresponding order Item\n",
    "\n",
    "def readData(datapath):\n",
    "    ordersFile=open(datapath)\n",
    "    ordersData=ordersFile.read()\n",
    "    ordersList=ordersData.splitlines()\n",
    "    return ordersList\n",
    "\n",
    "ordersPath='/home/jasbir/Documents/PySpark_itversity/data-master/retail_db/orders/part-00000'\n",
    "orders=readData(ordersPath)\n",
    "\n",
    "orderItemPath='/home/jasbir/Documents/PySpark_itversity/data-master/retail_db/order_items/part-00000'\n",
    "orderItems=readData(orderItemPath)\n",
    "\n",
    "#Looksups are faster for dict , so creating a dictionary from OrderItmes\n",
    "#With Orders and there count \n",
    "def getOrderAndOrderItemDict(orderItems):\n",
    "    CountordersInOrderItem={}\n",
    "    for orderItem in orderItems:\n",
    "        orderId=int(orderItem.split(',')[1])\n",
    "        if (CountordersInOrderItem.get(orderId)):\n",
    "            CountordersInOrderItem[orderId]+=1\n",
    "        else:\n",
    "            CountordersInOrderItem[orderId]=1\n",
    "            \n",
    "    return CountordersInOrderItem\n",
    "\n",
    "CountordersInOrderItem=getOrderAndOrderItemDict(orderItems)                  \n",
    "\n",
    "def getOrdersWithoutOrderItem(orders, CountordersInOrderItem ):\n",
    "    ordersWithoutOrderItem=[]\n",
    "    for order in orders:\n",
    "        orderId=int(order.split(',')[0])\n",
    "        if (CountordersInOrderItem.get(orderId)):\n",
    "            continue\n",
    "        else:\n",
    "            ordersWithoutOrderItem.append(order)\n",
    "    return ordersWithoutOrderItem\n",
    "            \n",
    "\n",
    "#getOrdersWithoutOrderItem(orders, CountordersInOrderItem )\n"
   ]
  },
  {
   "cell_type": "code",
   "execution_count": 180,
   "metadata": {},
   "outputs": [
    {
     "data": {
      "text/plain": [
       "['1,1,957,1,299.98,299.98',\n",
       " '2,2,1073,1,199.99,199.99',\n",
       " '3,2,502,5,250.0,50.0',\n",
       " '4,2,403,1,129.99,129.99',\n",
       " '5,4,897,2,49.98,24.99',\n",
       " '6,4,365,5,299.95,59.99',\n",
       " '7,4,502,3,150.0,50.0',\n",
       " '8,4,1014,4,199.92,49.98',\n",
       " '9,5,957,1,299.98,299.98',\n",
       " '10,5,365,5,299.95,59.99']"
      ]
     },
     "execution_count": 180,
     "metadata": {},
     "output_type": "execute_result"
    }
   ],
   "source": [
    "str=orderItems[:10]\n",
    "ls =[]\n",
    "for orderItem in str:\n",
    "    attr=orderItem.splt(',')[2]\n",
    "    if int()"
   ]
  },
  {
   "cell_type": "code",
   "execution_count": 6,
   "metadata": {},
   "outputs": [],
   "source": [
    "#Get All those products where daily revenue is more than $1000\n",
    "#Output should have Order Date , Product id and Revenue \n",
    "def readData(datapath):\n",
    "    ordersFile=open(datapath)\n",
    "    ordersData=ordersFile.read()\n",
    "    ordersList=ordersData.splitlines()\n",
    "    return ordersList\n",
    "\n",
    "ordersPath='/home/jasbir/Documents/PySpark_itversity/data-master/retail_db/orders/part-00000'\n",
    "orders=readData(ordersPath)\n",
    "\n",
    "orderItemPath='/home/jasbir/Documents/PySpark_itversity/data-master/retail_db/order_items/part-00000'\n",
    "orderItems=readData(orderItemPath)\n",
    "\n",
    "def getOrderIdDateDict(orders):\n",
    "    OrderIdDateDict={}\n",
    "    for order in orders :\n",
    "        orderAttributes=order.split(',')\n",
    "        if (OrderIdDateDict.get(int(orderAttributes[0]))):\n",
    "            continue\n",
    "        else :\n",
    "            OrderIdDateDict[int(orderAttributes[0])]=orderAttributes[1]\n",
    "    return OrderIdDateDict\n",
    "\n",
    "OrderIdDateDict=getOrderIdDateDict(orders)\n",
    "\n",
    "def getAllDistinctProductId(orderItems):\n",
    "    ProductId=set({})\n",
    "    for orderItem in orderItems :\n",
    "        id=int(orderItem.split(',')[2])\n",
    "        ProductId.add(id)\n",
    "    return ProductId\n",
    "\n",
    "getAllDistinctProductId(orderItems)\n",
    "\n",
    "        \n",
    "def getRevenue(OrderIdDateDict,orderItems):\n",
    "    lsResult=[]\n",
    "    tupleResult=()\n",
    "        for orderItem in orderItems:\n",
    "            orderItemAttributes=orderItem.split(',')\n",
    "            \n",
    "            \n",
    "                \n",
    "        \n",
    "        \n",
    "            "
   ]
  },
  {
   "cell_type": "code",
   "execution_count": 25,
   "metadata": {},
   "outputs": [
    {
     "name": "stdout",
     "output_type": "stream",
     "text": [
      "1,1,957,1,299.98,299.98\n",
      "2,2,1073,1,199.99,199.99\n",
      "3,2,502,5,250.0,50.0\n",
      "4,2,403,1,129.99,129.99\n",
      "5,4,897,2,49.98,24.99\n",
      "6,4,365,5,299.95,59.99\n",
      "7,4,502,3,150.0,50.0\n",
      "8,4,1014,4,199.92,49.98\n",
      "9,5,957,1,299.98,299.98\n",
      "10,5,365,5,299.95,59.99\n",
      "************************\n",
      "1,2013-07-25 00:00:00.0,11599,CLOSED\n",
      "2,2013-07-25 00:00:00.0,256,PENDING_PAYMENT\n",
      "3,2013-07-25 00:00:00.0,12111,COMPLETE\n",
      "4,2013-07-25 00:00:00.0,8827,CLOSED\n",
      "5,2013-07-25 00:00:00.0,11318,COMPLETE\n",
      "6,2013-07-25 00:00:00.0,7130,COMPLETE\n",
      "7,2013-07-25 00:00:00.0,4530,COMPLETE\n",
      "8,2013-07-25 00:00:00.0,2911,PROCESSING\n",
      "9,2013-07-25 00:00:00.0,5657,PENDING_PAYMENT\n",
      "10,2013-07-25 00:00:00.0,5648,PENDING_PAYMENT\n"
     ]
    }
   ],
   "source": [
    "for orderItem in orderItems[:10]:\n",
    "    print(orderItem)\n",
    "print('************************')\n",
    "for order in orders[:10]:\n",
    "    print(order)"
   ]
  },
  {
   "cell_type": "code",
   "execution_count": 39,
   "metadata": {},
   "outputs": [
    {
     "data": {
      "text/plain": [
       "['1073',\n",
       " '502',\n",
       " '403',\n",
       " '1014',\n",
       " '1004',\n",
       " '906',\n",
       " '917',\n",
       " '810',\n",
       " '926',\n",
       " '627',\n",
       " '828',\n",
       " '134',\n",
       " '93',\n",
       " '957',\n",
       " '365',\n",
       " '276',\n",
       " '37',\n",
       " '897',\n",
       " '191']"
      ]
     },
     "execution_count": 39,
     "metadata": {},
     "output_type": "execute_result"
    }
   ],
   "source": [
    "#Get All those products where daily revenue is more than $1000\n",
    "#Output should have Order Date , Product id and Revenue \n",
    "def readData(datapath):\n",
    "    ordersFile=open(datapath)\n",
    "    ordersData=ordersFile.read()\n",
    "    ordersList=ordersData.splitlines()\n",
    "    return ordersList\n",
    "\n",
    "ordersPath='/home/jasbir/Documents/PySpark_itversity/data-master/retail_db/orders/part-00000'\n",
    "orders=readData(ordersPath)\n",
    "\n",
    "orderItemPath='/home/jasbir/Documents/PySpark_itversity/data-master/retail_db/order_items/part-00000'\n",
    "orderItems=readData(orderItemPath)\n",
    "\n",
    "def getOrderIdDateDict(orders):\n",
    "    OrderIdDateDict={}\n",
    "    for order in orders :\n",
    "        orderAttributes=order.split(',')\n",
    "        if (OrderIdDateDict.get(orderAttributes[0])):\n",
    "            continue\n",
    "        else :\n",
    "            OrderIdDateDict[orderAttributes[0]]=orderAttributes[1]\n",
    "    return OrderIdDateDict\n",
    "\n",
    "OrderIdDateDict=getOrderIdDateDict(orders)\n",
    "\n",
    "def getAllDistinctProductId(orderItems):\n",
    "    ProductOrdermap = {}\n",
    "    ProductRevenueMap = {}\n",
    "    for orderItem in orderItems :\n",
    "        product=orderItem.split(',')\n",
    "        if(product[2] in ProductOrdermap):\n",
    "            ProductOrdermap[product[2]].append((product[1], OrderIdDateDict[product[1]]))\n",
    "            \n",
    "            if(OrderIdDateDict[product[1]] in ProductRevenueMap[product[2]]):\n",
    "                ProductRevenueMap[product[2]][OrderIdDateDict[product[1]]] += float(product[4])\n",
    "            else:\n",
    "                ProductRevenueMap[product[2]][OrderIdDateDict[product[1]]] = float(product[4])\n",
    "                \n",
    "        else:\n",
    "            ProductOrdermap[product[2]] = [(product[1], OrderIdDateDict[product[1]])]\n",
    "            ProductRevenueMap[product[2]] = {OrderIdDateDict[product[1]] : [float(product[4]])\n",
    "        \n",
    "    return (ProductOrdermap, ProductRevenueMap)\n",
    "\n",
    "ProductOrdermap, ProductRevenueMap = getAllDistinctProductId(orderItems[:100])\n",
    "\n",
    "resultList = []\n",
    "for key in sorted(ProductRevenueMap, key=lambda k : k[1], reverse=true):\n",
    "    if(ProductRevenueMap[key] < 1000):\n",
    "        break\n",
    "    \n",
    "    resultList.append()\n",
    "\n",
    "# print(ProductOrdermap)  \n",
    "            "
   ]
  },
  {
   "cell_type": "code",
   "execution_count": null,
   "metadata": {},
   "outputs": [],
   "source": []
  }
 ],
 "metadata": {
  "kernelspec": {
   "display_name": "Python 3",
   "language": "python",
   "name": "python3"
  },
  "language_info": {
   "codemirror_mode": {
    "name": "ipython",
    "version": 3
   },
   "file_extension": ".py",
   "mimetype": "text/x-python",
   "name": "python",
   "nbconvert_exporter": "python",
   "pygments_lexer": "ipython3",
   "version": "3.6.5"
  }
 },
 "nbformat": 4,
 "nbformat_minor": 2
}
